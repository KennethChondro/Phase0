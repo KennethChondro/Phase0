{
 "cells": [
  {
   "cell_type": "markdown",
   "metadata": {},
   "source": [
    "- Buatlah sebuah function yang dapat mengkonversi suhu dari kelvin ke celcius, dan celcius ke kelvin.\n",
    "- Buatlah sebuah function yang dapat mengkonversi suhu ke fahrenheit. Tambahkan parameter untuk memastikan bahwa argumen yang dimasukan adalah celcius atau kelvin. Panggil function yang pertama jika diperlukan.\n",
    "- Buatlah sebuah function yang dapat mengkonversi suhu dari fahrenheit. Berikan argumen untuk memastikan bahwa outputnya dalah celcius atau kelvin.\n",
    "- Berikan dokumentasi pada setiap baris kode yang kalian tulis"
   ]
  },
  {
   "cell_type": "markdown",
   "metadata": {},
   "source": [
    "### Membuat fungsi untuk mengkonversi suhu dari Kelvin ke Celcius atau Farenheit dan sebaliknya"
   ]
  },
  {
   "cell_type": "code",
   "execution_count": 30,
   "metadata": {},
   "outputs": [],
   "source": [
    "def conv_cel_kel(cel):\n",
    "    return cel+273.15\n",
    "def conv_kel_cel(kel):\n",
    "    return kel-273.15\n",
    "def conv_kel_fah(kel):\n",
    "    return ((kel - 273.15) * 9/5 + 32)\n",
    "def conv_cel_fah(cel):\n",
    "    kel=conv_cel_kel(cel)\n",
    "    return(conv_kel_fah(kel))\n",
    "def conv_fah_cel(fah):\n",
    "    return (fah - 32) * 5/9\n",
    "def conv_fah_kel(fah):\n",
    "    cel=conv_fah_cel(fah)\n",
    "    return conv_cel_kel(cel)"
   ]
  },
  {
   "cell_type": "markdown",
   "metadata": {},
   "source": [
    "### Meminta input berupa nilai suhu, suhu awal dan suhu akhir"
   ]
  },
  {
   "cell_type": "code",
   "execution_count": 65,
   "metadata": {},
   "outputs": [],
   "source": [
    "input1=input('Masukkan nilai suhu:')\n",
    "input2=input('Apakah suhu Celcius ,Kelvin atau Fahrenheit ?/n C/K/F')\n",
    "input3=input('Apakah suhu ingin dirubah ke Celcius ,Kelvin atau Fahrenheit ?/n C/K/F')"
   ]
  },
  {
   "cell_type": "markdown",
   "metadata": {},
   "source": [
    "### Cek apakah penulisan suhu sudah benar dan juga mengubah nilai input1(suhu) menjadi float agar dapat dikalkulasikan"
   ]
  },
  {
   "cell_type": "code",
   "execution_count": 67,
   "metadata": {},
   "outputs": [],
   "source": [
    "if type(input1) != float:\n",
    "    for i in input1:\n",
    "        if i == ',':\n",
    "            input1=input1.replace(',','.')\n",
    "            #print('Nilai salah, gunakan titik sebagai koma')\n",
    "            #input1=input('Masukkan kembail nilai suhu:')\n",
    "input1=float(input1)"
   ]
  },
  {
   "cell_type": "markdown",
   "metadata": {},
   "source": [
    "### Program untuk konversi suhu"
   ]
  },
  {
   "cell_type": "code",
   "execution_count": 81,
   "metadata": {},
   "outputs": [
    {
     "name": "stdout",
     "output_type": "stream",
     "text": [
      "Suhu setelah di konversi menjadi Kelvin = 407.1222222222222\n"
     ]
    }
   ],
   "source": [
    "if input2.upper()=='C':\n",
    "    if input3.upper()=='C':\n",
    "        print('Suhu sudah berupa Celcius')\n",
    "    elif input3.upper()=='K':\n",
    "        print('Suhu setelah di konversi menjadi Kelvin =' ,conv_cel_kel(input1))\n",
    "    elif input3.upper()=='F':\n",
    "        print('Suhu setelah di konversi menjadi Fahrenheit =',conv_cel_fah(input1))\n",
    "elif input2.upper()=='K':\n",
    "    if input3.upper()=='C':\n",
    "        print('Suhu setelah di konversi menjadi Celcius =',conv_kel_cel(input1))\n",
    "    elif input3.upper()=='K':\n",
    "        print('Suhu sudah berupa Kelvin')\n",
    "    elif input3.upper()=='F':\n",
    "        print('Suhu setelah di konversi menjadi Fahrenheit =',conv_kel_fah(input1))\n",
    "elif input2.upper()=='F':\n",
    "    if input3.upper()=='C':\n",
    "        print('Suhu setelah di konversi menjadi Celsius =:' ,conv_fah_cel(input1))\n",
    "    elif input3.upper()=='K':\n",
    "        print('Suhu setelah di konversi menjadi Kelvin =',conv_fah_kel(input1))\n",
    "    elif input3.upper()=='F':\n",
    "        print('Suhu sudah berupa Fahrenheit')"
   ]
  }
 ],
 "metadata": {
  "interpreter": {
   "hash": "9197283acc09550c26ccaaf2f61154d1576150595a18eb6355f679cbceef729a"
  },
  "kernelspec": {
   "display_name": "Python 3.10.4 ('Hacktiv8')",
   "language": "python",
   "name": "python3"
  },
  "language_info": {
   "codemirror_mode": {
    "name": "ipython",
    "version": 3
   },
   "file_extension": ".py",
   "mimetype": "text/x-python",
   "name": "python",
   "nbconvert_exporter": "python",
   "pygments_lexer": "ipython3",
   "version": "3.10.4"
  },
  "orig_nbformat": 4
 },
 "nbformat": 4,
 "nbformat_minor": 2
}
