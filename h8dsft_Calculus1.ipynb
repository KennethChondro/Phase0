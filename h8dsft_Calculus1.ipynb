{
 "cells": [
  {
   "cell_type": "markdown",
   "metadata": {},
   "source": [
    "Carilah turunan dari fungsi: \n",
    "- 𝑦 = 𝑥^2 + 2𝑥 + 1\n",
    "- 𝑦 = 4𝑥^3 − 3𝑥^2 +2𝑥 − 1"
   ]
  },
  {
   "cell_type": "code",
   "execution_count": 1,
   "metadata": {},
   "outputs": [],
   "source": [
    "import sympy as sy\n",
    "import numpy as np"
   ]
  },
  {
   "cell_type": "code",
   "execution_count": 3,
   "metadata": {},
   "outputs": [],
   "source": [
    "from sympy.abc import x"
   ]
  },
  {
   "cell_type": "code",
   "execution_count": 13,
   "metadata": {},
   "outputs": [
    {
     "name": "stdout",
     "output_type": "stream",
     "text": [
      "x**2 + 2*x + 1\n",
      "4*x**3 - 3*x**2 + 2*x - 1\n"
     ]
    }
   ],
   "source": [
    "f1=x**2+2*x+1\n",
    "f2=4*x**3-3*x**2+2*x-1\n",
    "print(f1)\n",
    "print(f2)"
   ]
  },
  {
   "cell_type": "code",
   "execution_count": 14,
   "metadata": {},
   "outputs": [
    {
     "name": "stdout",
     "output_type": "stream",
     "text": [
      "2*x + 2\n",
      "12*x**2 - 6*x + 2\n"
     ]
    }
   ],
   "source": [
    "print(f1.diff(x))\n",
    "print(f2.diff(x))"
   ]
  }
 ],
 "metadata": {
  "interpreter": {
   "hash": "9197283acc09550c26ccaaf2f61154d1576150595a18eb6355f679cbceef729a"
  },
  "kernelspec": {
   "display_name": "Python 3.10.4 ('Hacktiv8')",
   "language": "python",
   "name": "python3"
  },
  "language_info": {
   "codemirror_mode": {
    "name": "ipython",
    "version": 3
   },
   "file_extension": ".py",
   "mimetype": "text/x-python",
   "name": "python",
   "nbconvert_exporter": "python",
   "pygments_lexer": "ipython3",
   "version": "3.10.4"
  },
  "orig_nbformat": 4
 },
 "nbformat": 4,
 "nbformat_minor": 2
}
