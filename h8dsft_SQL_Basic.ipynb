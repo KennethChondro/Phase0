{
 "cells": [
  {
   "cell_type": "markdown",
   "metadata": {},
   "source": [
    "\n",
    "# P0W2D4AM - SQL (Basic)\n",
    "A. Create Table"
   ]
  },
  {
   "cell_type": "code",
   "execution_count": null,
   "metadata": {},
   "outputs": [],
   "source": [
    "CREATE TABLE teachers (\n",
    "    id INT NOT NULL PRIMARY KEY AUTO_INCREMENT,\n",
    "    first_name varchar(25) NOT NULL,\n",
    "    last_name varchar(50),\n",
    "    school varchar(50) NOT NULL,\n",
    "    hire_date date,\n",
    "    salary numeric\n",
    "    );"
   ]
  },
  {
   "cell_type": "code",
   "execution_count": null,
   "metadata": {},
   "outputs": [],
   "source": [
    "INSERT INTO teachers (id,first_name, last_name, school, hire_date, salary)\n",
    "    VALUES (1,'Janet', 'Smith', 'MIT', '2011-10-30', 36200),\n",
    "           (2,'Lee', 'Reynolds', 'MIT', '1993-05-22', 65000),\n",
    "           (3,'Samuel', 'Cole', 'Cambridge University', '2005-08-01', 43500),\n",
    "           (4,'Samantha', 'Bush', 'Cambridge University', '2011-10-30', 36200),\n",
    "           (5,'Betty', 'Diaz', 'Cambridge University', '2005-08-30', 43500),\n",
    "           (6,'Kathleen', 'Roush', 'MIT', '2010-10-22', 38500),\n",
    "           (7,'James', 'Diaz', 'Harvard University', '2003-07-18', 61000),\n",
    "           (8,'Zack', 'Smith', 'Harvard University', '2000-12-29', 55500),\n",
    "           (9,'Luis', 'Gonzales', 'Standford University', '2002-12-01', 50000),\n",
    "           (10,'Frank', 'Abbers', 'Standford University', '1999-01-30', 66000);"
   ]
  },
  {
   "cell_type": "code",
   "execution_count": null,
   "metadata": {},
   "outputs": [],
   "source": [
    "INSERT INTO teachers (first_name, last_name, school, hire_date, salary)\n",
    "    VALUES ('Samuel', 'Abbers', 'Standford University', '2006-01-30', 32000),\n",
    "           ('Jessica', 'Abbers', 'Standford University', '2005-01-30', 33000),\n",
    "           ('Tom', 'Massi', 'Harvard University', '1999-09-09', 39500),\n",
    "           ('Esteban', 'Brown', 'MIT', '2007-01-30', 36000),\n",
    "           ('Carlos', 'Alonso', 'Standford University', '2001-01-30', 44000);"
   ]
  },
  {
   "cell_type": "markdown",
   "metadata": {},
   "source": [
    "\n",
    "# P0W2D4PM (Group By, Join, Subquery)"
   ]
  },
  {
   "cell_type": "code",
   "execution_count": null,
   "metadata": {},
   "outputs": [],
   "source": [
    "CREATE TABLE courses (\n",
    "    id INT NOT NULL PRIMARY KEY AUTO_INCREMENT,\n",
    "    name varchar(20),\n",
    "    teachers_id INT,\n",
    "    total_students INT\n",
    "    );"
   ]
  },
  {
   "cell_type": "code",
   "execution_count": null,
   "metadata": {},
   "outputs": [],
   "source": [
    "INSERT INTO courses (name, teachers_id, total_students)\n",
    "    VALUES  ('Calculus', 2, 20),\n",
    "            ('Physics', 2, 10),\n",
    "            ('Calculus', 1, 30),\n",
    "            ('Computer Science', 1, 20),\n",
    "            ('Politic', 13, 15),\n",
    "            ('Algebra', 2, 10),\n",
    "            ('Algebra', 13, 30),\n",
    "            ('Computer Science', 10, 35),\n",
    "            ('Life Science', 11, 20),\n",
    "            ('Chemistry', 9, 22),\n",
    "            ('Chemistry', 8, 16),\n",
    "            ('Calculus', 5, 19),\n",
    "            ('Politic', 4, 17),\n",
    "            ('Biology', 6, 22),\n",
    "            ('Physics', 3, 29),\n",
    "            ('Biology', 8, 28),\n",
    "            ('Calculus', 12, 34),\n",
    "            ('Physics', 13, 34),\n",
    "            ('Biology', 14, 25),\n",
    "            ('Calculus', 15, 20);"
   ]
  },
  {
   "cell_type": "markdown",
   "metadata": {},
   "source": [
    "\n",
    "C. Cases\n",
    "C.1 Group By\n",
    "\n",
    "Cases :\n",
    "\n",
    "    Case 1 : Who is the teacher with the highest salary for each university ?\n",
    "\n",
    "    Case 2 : Who is the teacher with the highest salary from Standford University ?\n",
    "\n",
    "C.2. Join\n",
    "\n",
    "Cases :\n",
    "\n",
    "    Case 1 : Display all courses with teacher's identity\n",
    "\n",
    "    Case 2 : Display how many courses per universities\n",
    "\n",
    "    Case 3 : Display how many total_students per teachers\n",
    "\n",
    "    Case 4 : Display how many courses per teachers\n",
    "\n"
   ]
  },
  {
   "cell_type": "code",
   "execution_count": null,
   "metadata": {},
   "outputs": [],
   "source": [
    "#C! Case 1\n",
    "\n",
    "SELECT teachers.first_name,teachers.last_name\n",
    "FROM teachers\n",
    "JOIN courses on courses.teachers_id=teachers.id\n",
    "GROUP BY teachers.school\n",
    "WHERE MAX(teachers.salary)\n"
   ]
  },
  {
   "cell_type": "code",
   "execution_count": null,
   "metadata": {},
   "outputs": [],
   "source": [
    "#C! Case 2\n",
    "\n",
    "SELECT teachers.first_name,teachers.last_name\n",
    "FROM teachers\n",
    "JOIN courses on courses.teachers_id=teachers.id\n",
    "GROUP BY teachers.school\n",
    "WHERE MAX(teachers.salary) and teachers.school = 'standford'"
   ]
  },
  {
   "cell_type": "code",
   "execution_count": null,
   "metadata": {},
   "outputs": [],
   "source": [
    "#C2 Case 1\n",
    "\n",
    "SELECT teachers.first_name,teachers.last_name,courses.name\n",
    "FROM teachers\n",
    "JOIN courses on courses.teachers_id=teachers.id\n",
    "\n"
   ]
  },
  {
   "cell_type": "code",
   "execution_count": null,
   "metadata": {},
   "outputs": [],
   "source": [
    "#C2 Case 2\n",
    "\n",
    "SELECT courses.name.teachers.school\n",
    "FROM teachers\n",
    "JOIN courses on courses.teachers_id=teachers.id\n",
    "GROUP BY courses.name\n",
    "WHERE teachers.school"
   ]
  },
  {
   "cell_type": "code",
   "execution_count": null,
   "metadata": {},
   "outputs": [],
   "source": [
    "#C2 Case 3\n",
    "SELECT courses.name.teachers.school\n",
    "FROM teachers\n",
    "JOIN courses on courses.teachers_id=teachers.id\n",
    "WHERE sum(courses.student)"
   ]
  },
  {
   "cell_type": "code",
   "execution_count": null,
   "metadata": {},
   "outputs": [],
   "source": [
    "#C2 Case 4\n",
    "SELECT courses.name.teachers.school\n",
    "FROM teachers\n",
    "JOIN courses on courses.teachers_id=teachers.id\n",
    "WHERE sum(courses.name)"
   ]
  }
 ],
 "metadata": {
  "language_info": {
   "name": "python"
  },
  "orig_nbformat": 4
 },
 "nbformat": 4,
 "nbformat_minor": 2
}
