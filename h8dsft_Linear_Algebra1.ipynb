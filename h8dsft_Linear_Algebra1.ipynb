{
 "cells": [
  {
   "cell_type": "markdown",
   "metadata": {},
   "source": [
    "1. Buatlah vektor di bawah ini dengan Python:(17 22 19)\n",
    "2. Diberikan3 buahvector 3 dimensi:𝑨=(17 22 19),𝑩=(10 20 11),𝑪=(5 12 9)\n",
    "3. Hitunglah:\n",
    "- A+B\n",
    "- B-C\n",
    "- A dot C\n",
    "- A x B\n",
    "- norm A\n",
    "- Sudut antara vektor A dan B"
   ]
  },
  {
   "cell_type": "code",
   "execution_count": 2,
   "metadata": {},
   "outputs": [],
   "source": [
    "import numpy as np"
   ]
  },
  {
   "cell_type": "code",
   "execution_count": 5,
   "metadata": {},
   "outputs": [],
   "source": [
    "A=np.array([17,22,19])\n",
    "B=np.array([10,20,11])\n",
    "C=np.array([5,12,9])"
   ]
  },
  {
   "cell_type": "code",
   "execution_count": 27,
   "metadata": {},
   "outputs": [],
   "source": [
    "def cos_theta(A,B):\n",
    "    return(A@B/(np.linalg.norm(A)*np.linalg.norm(B)))\n"
   ]
  },
  {
   "cell_type": "code",
   "execution_count": 28,
   "metadata": {},
   "outputs": [
    {
     "name": "stdout",
     "output_type": "stream",
     "text": [
      "[27 42 30]\n",
      "[5 8 2]\n",
      "520\n",
      "[170 440 209]\n",
      "33.67491648096547\n",
      "0.9759590023331435\n"
     ]
    }
   ],
   "source": [
    "print(A+B)\n",
    "print(B-C)\n",
    "print(A@C)\n",
    "print(A*B)\n",
    "print(np.linalg.norm(A))\n",
    "print(cos_theta(A,B))"
   ]
  }
 ],
 "metadata": {
  "interpreter": {
   "hash": "9197283acc09550c26ccaaf2f61154d1576150595a18eb6355f679cbceef729a"
  },
  "kernelspec": {
   "display_name": "Python 3.10.4 ('Hacktiv8')",
   "language": "python",
   "name": "python3"
  },
  "language_info": {
   "codemirror_mode": {
    "name": "ipython",
    "version": 3
   },
   "file_extension": ".py",
   "mimetype": "text/x-python",
   "name": "python",
   "nbconvert_exporter": "python",
   "pygments_lexer": "ipython3",
   "version": "3.10.4"
  },
  "orig_nbformat": 4
 },
 "nbformat": 4,
 "nbformat_minor": 2
}
