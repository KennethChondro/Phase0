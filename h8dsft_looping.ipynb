{
 "cells": [
  {
   "cell_type": "markdown",
   "metadata": {},
   "source": [
    "- Buatlah sebuah list dengan value berupa:numbers = [951, 402, 984, 651, 360, 69, 408, 319, 601, 485, 980, 507, 725, 547, 544, 615, 83, 165, 141, 501, 263, 617, 865, 575, 219, 390, 984, 592, 236, 105, 942, 941, 386, 462, 47, 418, 907, 344, 236, 375, 823, 566, 597, 978, 328, 615, 953, 345, 399, 162, 758, 219, 918, 237, 412, 566, 826, 248, 866, 950, 626, 949]\n",
    "- Loop dan print semua angka genap dari list angka diatas dengan urutan yang sama. \n",
    "- Jangan mencetak angka apapun yang muncul setelah angka 918 berdasarkan posisi angka tersebut pada list diatas.\n",
    "- Tampilkan pesan ”Done” setelah looping berakhir"
   ]
  },
  {
   "cell_type": "markdown",
   "metadata": {},
   "source": [
    "### Membuat suatu list number"
   ]
  },
  {
   "cell_type": "code",
   "execution_count": 1,
   "metadata": {},
   "outputs": [],
   "source": [
    "numbers = [951, 402, 984, 651, 360, 69, 408, 319, 601, 485, 980, 507, 725, 547, 544, 615, 83, 165, 141, 501, 263, 617, 865, 575, 219, 390, 984, 592, 236, 105, 942, 941, 386, 462, 47, 418, 907, 344, 236, 375, 823, 566, 597, 978, 328, 615, 953, 345, 399, 162, 758, 219, 918, 237, 412, 566, 826, 248, 866, 950, 626, 949]"
   ]
  },
  {
   "cell_type": "code",
   "execution_count": 6,
   "metadata": {},
   "outputs": [
    {
     "data": {
      "text/plain": [
       "[951,\n",
       " 402,\n",
       " 984,\n",
       " 651,\n",
       " 360,\n",
       " 69,\n",
       " 408,\n",
       " 319,\n",
       " 601,\n",
       " 485,\n",
       " 980,\n",
       " 507,\n",
       " 725,\n",
       " 547,\n",
       " 544,\n",
       " 615,\n",
       " 83,\n",
       " 165,\n",
       " 141,\n",
       " 501,\n",
       " 263,\n",
       " 617,\n",
       " 865,\n",
       " 575,\n",
       " 219,\n",
       " 390,\n",
       " 984,\n",
       " 592,\n",
       " 236,\n",
       " 105,\n",
       " 942,\n",
       " 941,\n",
       " 386,\n",
       " 462,\n",
       " 47,\n",
       " 418,\n",
       " 907,\n",
       " 344,\n",
       " 236,\n",
       " 375,\n",
       " 823,\n",
       " 566,\n",
       " 597,\n",
       " 978,\n",
       " 328,\n",
       " 615,\n",
       " 953,\n",
       " 345,\n",
       " 399,\n",
       " 162,\n",
       " 758,\n",
       " 219,\n",
       " 918,\n",
       " 237,\n",
       " 412,\n",
       " 566,\n",
       " 826,\n",
       " 248,\n",
       " 866,\n",
       " 950,\n",
       " 626,\n",
       " 949]"
      ]
     },
     "execution_count": 6,
     "metadata": {},
     "output_type": "execute_result"
    }
   ],
   "source": [
    "numbers"
   ]
  },
  {
   "cell_type": "code",
   "execution_count": 9,
   "metadata": {},
   "outputs": [
    {
     "name": "stdout",
     "output_type": "stream",
     "text": [
      "402\n",
      "984\n",
      "360\n",
      "408\n",
      "980\n",
      "544\n",
      "390\n",
      "984\n",
      "592\n",
      "236\n",
      "942\n",
      "386\n",
      "462\n",
      "418\n",
      "344\n",
      "236\n",
      "566\n",
      "978\n",
      "328\n",
      "162\n",
      "758\n",
      "Done\n"
     ]
    }
   ],
   "source": [
    "for i in numbers:\n",
    "    if i%2 == 0 and i!=918:\n",
    "        print(i)\n",
    "    elif i%2 == 0 and i==918:\n",
    "        break\n",
    "print('Done')"
   ]
  }
 ],
 "metadata": {
  "interpreter": {
   "hash": "9197283acc09550c26ccaaf2f61154d1576150595a18eb6355f679cbceef729a"
  },
  "kernelspec": {
   "display_name": "Python 3.10.4 ('Hacktiv8')",
   "language": "python",
   "name": "python3"
  },
  "language_info": {
   "codemirror_mode": {
    "name": "ipython",
    "version": 3
   },
   "file_extension": ".py",
   "mimetype": "text/x-python",
   "name": "python",
   "nbconvert_exporter": "python",
   "pygments_lexer": "ipython3",
   "version": "3.10.4"
  },
  "orig_nbformat": 4
 },
 "nbformat": 4,
 "nbformat_minor": 2
}
