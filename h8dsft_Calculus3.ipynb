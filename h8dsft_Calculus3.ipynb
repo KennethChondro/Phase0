{
 "cells": [
  {
   "cell_type": "markdown",
   "metadata": {},
   "source": [
    "Carilah Gradient dari sebuah fungsi berikut : 3𝑥+4𝑦=5"
   ]
  },
  {
   "cell_type": "code",
   "execution_count": 1,
   "metadata": {},
   "outputs": [],
   "source": [
    "import sympy as sy\n",
    "import numpy as np\n",
    "import numdifftools as nd"
   ]
  },
  {
   "cell_type": "code",
   "execution_count": 2,
   "metadata": {},
   "outputs": [],
   "source": [
    "from sympy.abc import x,y"
   ]
  },
  {
   "cell_type": "code",
   "execution_count": 3,
   "metadata": {},
   "outputs": [
    {
     "name": "stdout",
     "output_type": "stream",
     "text": [
      "5/4 - 3*x/4 5/3 - 4*y/3\n"
     ]
    }
   ],
   "source": [
    "fx= (5-3*x)/4\n",
    "fy= (5-4*y)/3\n",
    "print(fx,fy)"
   ]
  },
  {
   "cell_type": "code",
   "execution_count": 4,
   "metadata": {},
   "outputs": [
    {
     "data": {
      "text/latex": [
       "$\\displaystyle \\left[\\begin{matrix}- \\frac{3}{4} & 0\\end{matrix}\\right]$"
      ],
      "text/plain": [
       "[-3/4, 0]"
      ]
     },
     "execution_count": 4,
     "metadata": {},
     "output_type": "execute_result"
    }
   ],
   "source": [
    "sy.tensor.array.derive_by_array(fx,(x,y))"
   ]
  },
  {
   "cell_type": "code",
   "execution_count": 5,
   "metadata": {},
   "outputs": [
    {
     "data": {
      "text/latex": [
       "$\\displaystyle \\left[\\begin{matrix}0 & - \\frac{4}{3}\\end{matrix}\\right]$"
      ],
      "text/plain": [
       "[0, -4/3]"
      ]
     },
     "execution_count": 5,
     "metadata": {},
     "output_type": "execute_result"
    }
   ],
   "source": [
    "sy.tensor.array.derive_by_array(fy,(x,y))"
   ]
  },
  {
   "cell_type": "code",
   "execution_count": 6,
   "metadata": {},
   "outputs": [
    {
     "data": {
      "text/latex": [
       "$\\displaystyle \\left[\\begin{matrix}3 & 4\\end{matrix}\\right]$"
      ],
      "text/plain": [
       "[3, 4]"
      ]
     },
     "execution_count": 6,
     "metadata": {},
     "output_type": "execute_result"
    }
   ],
   "source": [
    "sy.tensor.array.derive_by_array((3*x+4*y-5),(x,y))"
   ]
  },
  {
   "cell_type": "code",
   "execution_count": 7,
   "metadata": {},
   "outputs": [
    {
     "data": {
      "text/plain": [
       "array([-0.75, -0.75])"
      ]
     },
     "execution_count": 7,
     "metadata": {},
     "output_type": "execute_result"
    }
   ],
   "source": [
    "dx = 0.5 #step\n",
    "x = np.arange(0,1,dx)\n",
    "y = 1 # anggap sebagai konstanta\n",
    "fx = (5-3*x)/4\n",
    "dfdx = np.gradient(fx,dx)\n",
    "dfdx"
   ]
  },
  {
   "cell_type": "code",
   "execution_count": 8,
   "metadata": {},
   "outputs": [
    {
     "data": {
      "text/plain": [
       "array([-1.33333333, -1.33333333])"
      ]
     },
     "execution_count": 8,
     "metadata": {},
     "output_type": "execute_result"
    }
   ],
   "source": [
    "dy = 0.5 #step\n",
    "y = np.arange(0,1,dx)\n",
    "x = 1 # anggap sebagai konstanta\n",
    "fy = (5-4*y)/3\n",
    "dfdy = np.gradient(fy,dy)\n",
    "dfdy"
   ]
  },
  {
   "cell_type": "code",
   "execution_count": 9,
   "metadata": {},
   "outputs": [
    {
     "name": "stdout",
     "output_type": "stream",
     "text": [
      "[0.  0.5]\n",
      "[0.  0.5]\n",
      "[-5.  -1.5]\n",
      "[7. 7.]\n",
      "[7. 7.]\n"
     ]
    }
   ],
   "source": [
    "dx=dy = 0.5 \n",
    "x = np.arange(0,1,dx)\n",
    "y = np.arange(0,1,dy)\n",
    "fx = x*3 -5 +4*y\n",
    "dfdx = np.gradient(fx,dx)\n",
    "dfdy = np.gradient(fx,dy)\n",
    "\n",
    "print(x)\n",
    "print(y)\n",
    "print(fx)\n",
    "print(dfdx)\n",
    "print(dfdy)"
   ]
  },
  {
   "cell_type": "code",
   "execution_count": 10,
   "metadata": {},
   "outputs": [
    {
     "name": "stdout",
     "output_type": "stream",
     "text": [
      "Gradient of x * 3 + y*4 - 5 at x = 1 is  -0.7499999999999998\n"
     ]
    }
   ],
   "source": [
    "f = lambda x: (5-3*x)/4\n",
    "grad1 = nd.Gradient(f)([1])\n",
    "print(\"Gradient of x * 3 + y*4 - 5 at x = 1 is \", grad1)"
   ]
  },
  {
   "cell_type": "code",
   "execution_count": 11,
   "metadata": {},
   "outputs": [
    {
     "name": "stdout",
     "output_type": "stream",
     "text": [
      "Gradient of x * 3 + y*4 - 5 at y = 1 is  -1.3333333333333326\n"
     ]
    }
   ],
   "source": [
    "f = lambda y:(5-4*y)/3\n",
    "grad1 = nd.Gradient(f)([1])\n",
    "print(\"Gradient of x * 3 + y*4 - 5 at y = 1 is \", grad1)"
   ]
  },
  {
   "cell_type": "code",
   "execution_count": 14,
   "metadata": {},
   "outputs": [],
   "source": [
    "y=(5-3*x)/4"
   ]
  },
  {
   "cell_type": "code",
   "execution_count": 15,
   "metadata": {},
   "outputs": [],
   "source": [
    "f=3*x+4*y-5"
   ]
  },
  {
   "cell_type": "code",
   "execution_count": 16,
   "metadata": {},
   "outputs": [
    {
     "data": {
      "text/latex": [
       "$\\displaystyle 0$"
      ],
      "text/plain": [
       "0"
      ]
     },
     "execution_count": 16,
     "metadata": {},
     "output_type": "execute_result"
    }
   ],
   "source": [
    "f"
   ]
  },
  {
   "cell_type": "code",
   "execution_count": 17,
   "metadata": {},
   "outputs": [
    {
     "data": {
      "text/plain": [
       "array([ 0., 10.])"
      ]
     },
     "execution_count": 17,
     "metadata": {},
     "output_type": "execute_result"
    }
   ],
   "source": [
    "x=np.linspace(0,10,11)\n",
    "x"
   ]
  },
  {
   "cell_type": "code",
   "execution_count": 18,
   "metadata": {},
   "outputs": [
    {
     "data": {
      "text/plain": [
       "array([ 1.25, -6.25])"
      ]
     },
     "execution_count": 18,
     "metadata": {},
     "output_type": "execute_result"
    }
   ],
   "source": [
    "y=(5-3*x)/4\n",
    "y"
   ]
  },
  {
   "cell_type": "code",
   "execution_count": 19,
   "metadata": {},
   "outputs": [
    {
     "data": {
      "text/plain": [
       "array([-0.75, -0.75])"
      ]
     },
     "execution_count": 19,
     "metadata": {},
     "output_type": "execute_result"
    }
   ],
   "source": [
    "np.gradient(y,x)"
   ]
  },
  {
   "cell_type": "code",
   "execution_count": 20,
   "metadata": {},
   "outputs": [
    {
     "data": {
      "text/plain": [
       "array([ 0.,  1.,  2.,  3.,  4.,  5.,  6.,  7.,  8.,  9., 10.])"
      ]
     },
     "execution_count": 20,
     "metadata": {},
     "output_type": "execute_result"
    }
   ],
   "source": [
    "y=np.linspace(0,10,11)\n",
    "y"
   ]
  },
  {
   "cell_type": "code",
   "execution_count": 22,
   "metadata": {},
   "outputs": [
    {
     "data": {
      "text/plain": [
       "array([-1.33333333, -1.33333333, -1.33333333, -1.33333333, -1.33333333,\n",
       "       -1.33333333, -1.33333333, -1.33333333, -1.33333333, -1.33333333,\n",
       "       -1.33333333])"
      ]
     },
     "execution_count": 22,
     "metadata": {},
     "output_type": "execute_result"
    }
   ],
   "source": [
    "np.gradient(x)"
   ]
  }
 ],
 "metadata": {
  "interpreter": {
   "hash": "9197283acc09550c26ccaaf2f61154d1576150595a18eb6355f679cbceef729a"
  },
  "kernelspec": {
   "display_name": "Python 3.10.4 ('Hacktiv8')",
   "language": "python",
   "name": "python3"
  },
  "language_info": {
   "codemirror_mode": {
    "name": "ipython",
    "version": 3
   },
   "file_extension": ".py",
   "mimetype": "text/x-python",
   "name": "python",
   "nbconvert_exporter": "python",
   "pygments_lexer": "ipython3",
   "version": "3.10.4"
  },
  "orig_nbformat": 4
 },
 "nbformat": 4,
 "nbformat_minor": 2
}
