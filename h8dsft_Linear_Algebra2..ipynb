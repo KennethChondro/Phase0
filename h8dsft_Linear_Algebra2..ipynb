{
 "cells": [
  {
   "cell_type": "markdown",
   "metadata": {},
   "source": [
    "- Buatlah Tensor di bawah ini dengan Python:[[23 50 7 12] [57 67 99 43] [75 21 57 12] [87 26 18 84]]\n",
    "- Lakukan perkalian terhadap matrix berikut: 𝐴= [23 50 19 7 12 109 57 67 98] 98,𝐵= [17 22 19]\n",
    "- Lakukan Transpose, hitung determinan, dan inverse terhadap matrix dibawah ini: 𝐴= [23 50 19 7 12 109 57 67 98]"
   ]
  },
  {
   "cell_type": "code",
   "execution_count": 1,
   "metadata": {},
   "outputs": [],
   "source": [
    "import numpy as np"
   ]
  },
  {
   "cell_type": "code",
   "execution_count": 3,
   "metadata": {},
   "outputs": [
    {
     "data": {
      "text/plain": [
       "array([[[23, 50],\n",
       "        [ 7, 12]],\n",
       "\n",
       "       [[55, 67],\n",
       "        [99, 43]],\n",
       "\n",
       "       [[75, 21],\n",
       "        [57, 12]],\n",
       "\n",
       "       [[87, 26],\n",
       "        [18, 84]]])"
      ]
     },
     "execution_count": 3,
     "metadata": {},
     "output_type": "execute_result"
    }
   ],
   "source": [
    "Tensor=np.array([[[23,50],[7,12]],\n",
    "[[55,67],[99,43]],\n",
    "[[75,21],[57,12]],\n",
    "[[87,26],[18,84]]])\n",
    "Tensor"
   ]
  },
  {
   "cell_type": "code",
   "execution_count": 14,
   "metadata": {},
   "outputs": [
    {
     "name": "stdout",
     "output_type": "stream",
     "text": [
      "[[ 23  50  19]\n",
      " [  7  12 109]\n",
      " [ 57  67  98]]\n",
      "[17 22 19]\n",
      "[1852 2454 4305]\n"
     ]
    }
   ],
   "source": [
    "A=np.array([[23 ,50 ,19] ,\n",
    "[7 ,12 ,109] ,\n",
    "[57 ,67 ,98]])\n",
    "print(A)\n",
    "𝐵= np.array([17, 22 ,19])\n",
    "print(B)\n",
    "print(A@B)"
   ]
  },
  {
   "cell_type": "code",
   "execution_count": 17,
   "metadata": {},
   "outputs": [
    {
     "name": "stdout",
     "output_type": "stream",
     "text": [
      "[[ 23   7  57]\n",
      " [ 50  12  67]\n",
      " [ 19 109  98]]\n",
      "131344.0000000002\n",
      "[[-0.0466485  -0.02761451  0.03975819]\n",
      " [ 0.04208034  0.00891552 -0.01807467]\n",
      " [-0.00163692  0.0099662  -0.00056341]]\n"
     ]
    }
   ],
   "source": [
    "print(A.T)\n",
    "print(np.linalg.det(A))\n",
    "print(np.linalg.inv(A))"
   ]
  }
 ],
 "metadata": {
  "interpreter": {
   "hash": "9197283acc09550c26ccaaf2f61154d1576150595a18eb6355f679cbceef729a"
  },
  "kernelspec": {
   "display_name": "Python 3.10.4 ('Hacktiv8')",
   "language": "python",
   "name": "python3"
  },
  "language_info": {
   "codemirror_mode": {
    "name": "ipython",
    "version": 3
   },
   "file_extension": ".py",
   "mimetype": "text/x-python",
   "name": "python",
   "nbconvert_exporter": "python",
   "pygments_lexer": "ipython3",
   "version": "3.10.4"
  },
  "orig_nbformat": 4
 },
 "nbformat": 4,
 "nbformat_minor": 2
}
